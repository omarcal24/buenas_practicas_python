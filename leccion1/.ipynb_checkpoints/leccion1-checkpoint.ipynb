{
 "cells": [
  {
   "cell_type": "markdown",
   "id": "municipal-moderator",
   "metadata": {},
   "source": [
    "# Lección 1 de Buenas Prácticas de Programación en Python\n",
    "# Adolfo Omar Calderón"
   ]
  },
  {
   "cell_type": "code",
   "execution_count": null,
   "id": "artificial-insider",
   "metadata": {},
   "outputs": [],
   "source": [
    "import pandas as pd\n",
    "import numpy as np\n",
    "import re\n",
    "import matplotlib\n",
    "import matplotlib.pyplot as plt"
   ]
  },
  {
   "cell_type": "code",
   "execution_count": 15,
   "id": "greater-syndication",
   "metadata": {},
   "outputs": [],
   "source": [
    "df = pd.read_csv('finanzas2020.csv', sep='\\t')"
   ]
  },
  {
   "cell_type": "code",
   "execution_count": 16,
   "id": "resistant-crest",
   "metadata": {},
   "outputs": [
    {
     "data": {
      "text/html": [
       "<div>\n",
       "<style scoped>\n",
       "    .dataframe tbody tr th:only-of-type {\n",
       "        vertical-align: middle;\n",
       "    }\n",
       "\n",
       "    .dataframe tbody tr th {\n",
       "        vertical-align: top;\n",
       "    }\n",
       "\n",
       "    .dataframe thead th {\n",
       "        text-align: right;\n",
       "    }\n",
       "</style>\n",
       "<table border=\"1\" class=\"dataframe\">\n",
       "  <thead>\n",
       "    <tr style=\"text-align: right;\">\n",
       "      <th></th>\n",
       "      <th>Enero</th>\n",
       "      <th>Febrero</th>\n",
       "      <th>Marzo</th>\n",
       "      <th>Abril</th>\n",
       "      <th>Mayo</th>\n",
       "      <th>Junio</th>\n",
       "      <th>Julio</th>\n",
       "      <th>Agosto</th>\n",
       "      <th>Septiembre</th>\n",
       "      <th>Octubre</th>\n",
       "      <th>Noviembre</th>\n",
       "      <th>Diciembre</th>\n",
       "    </tr>\n",
       "  </thead>\n",
       "  <tbody>\n",
       "    <tr>\n",
       "      <th>0</th>\n",
       "      <td>-760</td>\n",
       "      <td>343</td>\n",
       "      <td>265</td>\n",
       "      <td>-624</td>\n",
       "      <td>-390</td>\n",
       "      <td>-796</td>\n",
       "      <td>601</td>\n",
       "      <td>-780</td>\n",
       "      <td>-491</td>\n",
       "      <td>645</td>\n",
       "      <td>-248</td>\n",
       "      <td>714</td>\n",
       "    </tr>\n",
       "    <tr>\n",
       "      <th>1</th>\n",
       "      <td>223</td>\n",
       "      <td>491</td>\n",
       "      <td>-397</td>\n",
       "      <td>-123</td>\n",
       "      <td>6</td>\n",
       "      <td>-115</td>\n",
       "      <td>157</td>\n",
       "      <td>-741</td>\n",
       "      <td>-951</td>\n",
       "      <td>267</td>\n",
       "      <td>14</td>\n",
       "      <td>-596</td>\n",
       "    </tr>\n",
       "    <tr>\n",
       "      <th>2</th>\n",
       "      <td>-872</td>\n",
       "      <td>-913</td>\n",
       "      <td>558</td>\n",
       "      <td>278</td>\n",
       "      <td>544</td>\n",
       "      <td>-223</td>\n",
       "      <td>607</td>\n",
       "      <td>-113</td>\n",
       "      <td>348</td>\n",
       "      <td>576</td>\n",
       "      <td>-977</td>\n",
       "      <td>195</td>\n",
       "    </tr>\n",
       "    <tr>\n",
       "      <th>3</th>\n",
       "      <td>111</td>\n",
       "      <td>-842</td>\n",
       "      <td>730</td>\n",
       "      <td>-761</td>\n",
       "      <td>158</td>\n",
       "      <td>-963</td>\n",
       "      <td>-290</td>\n",
       "      <td>-669</td>\n",
       "      <td>191</td>\n",
       "      <td>130</td>\n",
       "      <td>170</td>\n",
       "      <td>-274</td>\n",
       "    </tr>\n",
       "    <tr>\n",
       "      <th>4</th>\n",
       "      <td>919</td>\n",
       "      <td>111</td>\n",
       "      <td>-688</td>\n",
       "      <td>15</td>\n",
       "      <td>395</td>\n",
       "      <td>9</td>\n",
       "      <td>553</td>\n",
       "      <td>297</td>\n",
       "      <td>-302</td>\n",
       "      <td>695</td>\n",
       "      <td>730</td>\n",
       "      <td>-731</td>\n",
       "    </tr>\n",
       "  </tbody>\n",
       "</table>\n",
       "</div>"
      ],
      "text/plain": [
       "  Enero  Febrero  Marzo  Abril  Mayo  Junio Julio  Agosto Septiembre Octubre  \\\n",
       "0  -760      343    265   -624  -390   -796   601    -780       -491     645   \n",
       "1   223      491   -397   -123     6   -115   157    -741       -951     267   \n",
       "2  -872     -913    558    278   544   -223   607    -113        348     576   \n",
       "3   111     -842    730   -761   158   -963  -290    -669        191     130   \n",
       "4   919      111   -688     15   395      9   553     297       -302     695   \n",
       "\n",
       "  Noviembre  Diciembre  \n",
       "0      -248        714  \n",
       "1        14       -596  \n",
       "2      -977        195  \n",
       "3       170       -274  \n",
       "4       730       -731  "
      ]
     },
     "execution_count": 16,
     "metadata": {},
     "output_type": "execute_result"
    }
   ],
   "source": [
    "df.head()"
   ]
  },
  {
   "cell_type": "code",
   "execution_count": 17,
   "id": "restricted-rogers",
   "metadata": {},
   "outputs": [
    {
     "data": {
      "text/plain": [
       "(100, 12)"
      ]
     },
     "execution_count": 17,
     "metadata": {},
     "output_type": "execute_result"
    }
   ],
   "source": [
    "df.shape"
   ]
  },
  {
   "cell_type": "code",
   "execution_count": 20,
   "id": "architectural-juice",
   "metadata": {},
   "outputs": [
    {
     "name": "stdout",
     "output_type": "stream",
     "text": [
      "<class 'pandas.core.frame.DataFrame'>\n",
      "RangeIndex: 100 entries, 0 to 99\n",
      "Data columns (total 12 columns):\n",
      " #   Column      Non-Null Count  Dtype \n",
      "---  ------      --------------  ----- \n",
      " 0   Enero       100 non-null    object\n",
      " 1   Febrero     100 non-null    int64 \n",
      " 2   Marzo       100 non-null    int64 \n",
      " 3   Abril       100 non-null    int64 \n",
      " 4   Mayo        100 non-null    int64 \n",
      " 5   Junio       100 non-null    int64 \n",
      " 6   Julio       100 non-null    object\n",
      " 7   Agosto      100 non-null    int64 \n",
      " 8   Septiembre  100 non-null    object\n",
      " 9   Octubre     100 non-null    object\n",
      " 10  Noviembre   100 non-null    object\n",
      " 11  Diciembre   100 non-null    int64 \n",
      "dtypes: int64(7), object(5)\n",
      "memory usage: 9.5+ KB\n"
     ]
    }
   ],
   "source": [
    "df.info()"
   ]
  },
  {
   "cell_type": "code",
   "execution_count": 27,
   "id": "handed-permit",
   "metadata": {},
   "outputs": [
    {
     "data": {
      "text/plain": [
       "Enero         '-541'\n",
       "Febrero          331\n",
       "Marzo           -170\n",
       "Abril           -943\n",
       "Mayo            -196\n",
       "Junio           -640\n",
       "Julio           -291\n",
       "Agosto          -662\n",
       "Septiembre      -478\n",
       "Octubre          205\n",
       "Noviembre        952\n",
       "Diciembre       -529\n",
       "Name: 63, dtype: object"
      ]
     },
     "execution_count": 27,
     "metadata": {},
     "output_type": "execute_result"
    }
   ],
   "source": [
    "df.iloc[63]"
   ]
  },
  {
   "cell_type": "code",
   "execution_count": 30,
   "id": "stunning-accident",
   "metadata": {},
   "outputs": [],
   "source": [
    "df['Enero'] = [re.sub(\"'\",'', str(x)) for x in df['Enero']]"
   ]
  },
  {
   "cell_type": "code",
   "execution_count": 31,
   "id": "comparative-jewelry",
   "metadata": {},
   "outputs": [
    {
     "data": {
      "text/plain": [
       "Enero         -541\n",
       "Febrero        331\n",
       "Marzo         -170\n",
       "Abril         -943\n",
       "Mayo          -196\n",
       "Junio         -640\n",
       "Julio         -291\n",
       "Agosto        -662\n",
       "Septiembre    -478\n",
       "Octubre        205\n",
       "Noviembre      952\n",
       "Diciembre     -529\n",
       "Name: 63, dtype: object"
      ]
     },
     "execution_count": 31,
     "metadata": {},
     "output_type": "execute_result"
    }
   ],
   "source": [
    "df.iloc[63]"
   ]
  },
  {
   "cell_type": "code",
   "execution_count": 32,
   "id": "native-athletics",
   "metadata": {},
   "outputs": [
    {
     "data": {
      "text/plain": [
       "0    -760\n",
       "1     223\n",
       "2    -872\n",
       "3     111\n",
       "4     919\n",
       "     ... \n",
       "95   -652\n",
       "96    777\n",
       "97   -380\n",
       "98    244\n",
       "99    126\n",
       "Name: Enero, Length: 100, dtype: int64"
      ]
     },
     "execution_count": 32,
     "metadata": {},
     "output_type": "execute_result"
    }
   ],
   "source": [
    "pd.to_numeric(df['Enero'])"
   ]
  },
  {
   "cell_type": "code",
   "execution_count": 33,
   "id": "sustainable-generator",
   "metadata": {},
   "outputs": [],
   "source": [
    "cols = df.columns"
   ]
  },
  {
   "cell_type": "code",
   "execution_count": 34,
   "id": "romance-leadership",
   "metadata": {},
   "outputs": [],
   "source": [
    "df[cols] = df[cols].apply(pd.to_numeric, errors='coerce')"
   ]
  },
  {
   "cell_type": "code",
   "execution_count": 43,
   "id": "marked-blind",
   "metadata": {},
   "outputs": [
    {
     "name": "stdout",
     "output_type": "stream",
     "text": [
      "Enero\n",
      "11523\n",
      "\n",
      "Febrero\n",
      "39\n",
      "\n",
      "Marzo\n",
      "-7969\n",
      "\n",
      "Abril\n",
      "-18933\n",
      "\n",
      "Mayo\n",
      "10304\n",
      "\n",
      "Junio\n",
      "-1477\n",
      "\n",
      "Julio\n",
      "8300.0\n",
      "\n",
      "Agosto\n",
      "-8735\n",
      "\n",
      "Septiembre\n",
      "-10948.0\n",
      "\n",
      "Octubre\n",
      "3412.0\n",
      "\n",
      "Noviembre\n",
      "1157.0\n",
      "\n",
      "Diciembre\n",
      "-3044\n",
      "\n",
      "La MEDIA de los gastos es:  -1364.25\n",
      "El gasto TOTAL es:  -16371.0\n",
      "Los ingresos totales son:  -51106.0\n"
     ]
    }
   ],
   "source": [
    "gastos = []\n",
    "\n",
    "for column in df.columns:\n",
    "    print(column)\n",
    "    print(df[column].sum())\n",
    "    gastos.append(df[column].sum())\n",
    "    print()\n",
    "\n",
    "\n",
    "print('La MEDIA de los gastos es: ',np.mean(gastos))\n",
    "print('El gasto TOTAL es: ',np.sum(gastos))\n",
    "\n",
    "ingresos = []\n",
    "\n",
    "for cantidad in gastos:\n",
    "    if cantidad < 0:\n",
    "        ingresos.append(cantidad)\n",
    "        \n",
    "print('Los ingresos totales son: ',np.sum(ingresos))"
   ]
  },
  {
   "cell_type": "markdown",
   "id": "returning-tsunami",
   "metadata": {},
   "source": [
    "## EL MES EN QUE MÁS SE HA GASTADO ES ENERO"
   ]
  },
  {
   "cell_type": "markdown",
   "id": "lyric-queens",
   "metadata": {},
   "source": [
    "## EL MES EN QUE MÁS SE HA AHORRADO ES ABRIL"
   ]
  },
  {
   "cell_type": "markdown",
   "id": "exclusive-clark",
   "metadata": {},
   "source": [
    "## LA MEDIA DE LOS GASTOS ES -1364.25"
   ]
  },
  {
   "cell_type": "markdown",
   "id": "diverse-introduction",
   "metadata": {},
   "source": [
    "## EL GASTO TOTAL ES -16371.0"
   ]
  },
  {
   "cell_type": "markdown",
   "id": "elementary-enzyme",
   "metadata": {},
   "source": [
    "## LOS INGRESOS TOTALES SON 51106.0"
   ]
  },
  {
   "cell_type": "code",
   "execution_count": 49,
   "id": "essential-leather",
   "metadata": {},
   "outputs": [
    {
     "data": {
      "text/plain": [
       "[<matplotlib.lines.Line2D at 0x120f82310>]"
      ]
     },
     "execution_count": 49,
     "metadata": {},
     "output_type": "execute_result"
    },
    {
     "data": {
      "image/png": "[encoded data removed]",
      "text/plain": [
       "<Figure size 432x288 with 1 Axes>"
      ]
     },
     "metadata": {
      "needs_background": "light"
     },
     "output_type": "display_data"
    }
   ],
   "source": [
    "ingresos_pos = [abs(num) for num in ingresos]\n",
    "plt.plot(ingresos_pos)"
   ]
  },
  {
   "cell_type": "code",
   "execution_count": 60,
   "id": "imperial-proxy",
   "metadata": {},
   "outputs": [
    {
     "name": "stdout",
     "output_type": "stream",
     "text": [
      "Numero de columnas:  12\n",
      "Numero de datos nulos por columna: \n",
      "Enero         0\n",
      "Febrero       0\n",
      "Marzo         0\n",
      "Abril         0\n",
      "Mayo          0\n",
      "Junio         0\n",
      "Julio         0\n",
      "Agosto        0\n",
      "Septiembre    0\n",
      "Octubre       0\n",
      "Noviembre     0\n",
      "Diciembre     0\n",
      "dtype: int64\n"
     ]
    }
   ],
   "source": [
    "try:\n",
    "    fichero = pd.read_csv('finanzas2020.csv', sep='\\t')\n",
    "    print('Numero de columnas: ', len(fichero.columns))\n",
    "    print('Numero de datos nulos por columna: ')\n",
    "    print(fichero.isnull().sum())\n",
    "except IOError as err:\n",
    "    print('No encuentra el fichero o no es posible leerlo ', err)"
   ]
  },
  {
   "cell_type": "code",
   "execution_count": null,
   "id": "municipal-silence",
   "metadata": {},
   "outputs": [],
   "source": []
  }
 ],
 "metadata": {
  "kernelspec": {
   "display_name": "Python 3",
   "language": "python",
   "name": "python3"
  },
  "language_info": {
   "codemirror_mode": {
    "name": "ipython",
    "version": 3
   },
   "file_extension": ".py",
   "mimetype": "text/x-python",
   "name": "python",
   "nbconvert_exporter": "python",
   "pygments_lexer": "ipython3",
   "version": "3.8.2"
  }
 },
 "nbformat": 4,
 "nbformat_minor": 5
}
