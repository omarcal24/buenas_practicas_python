{
 "cells": [
  {
   "cell_type": "markdown",
   "id": "69cda705",
   "metadata": {},
   "source": [
    "# Lección 2 de Buenas Prácticas de Programación en Python\n",
    "# Adolfo Omar Calderón"
   ]
  },
  {
   "cell_type": "code",
   "execution_count": 9,
   "id": "9ff39fd9",
   "metadata": {},
   "outputs": [],
   "source": [
    "import unittest"
   ]
  },
  {
   "cell_type": "code",
   "execution_count": 2,
   "id": "07713f8b",
   "metadata": {},
   "outputs": [],
   "source": [
    "def suma(a,b):\n",
    "    return a+b\n",
    "\n",
    "def resta(a,b):\n",
    "    return a-b"
   ]
  },
  {
   "cell_type": "code",
   "execution_count": 6,
   "id": "0350d596",
   "metadata": {},
   "outputs": [],
   "source": [
    "class PruebasUnitarias(unittest.TestCase):\n",
    "    def test_suma(self):\n",
    "        self.assertEqual(operaciones.suma(18, 2), 20)\n",
    "    def test_resta(self):\n",
    "        self.assertEqual(operaciones.resta(10, 5), 5)\n",
    "\n",
    "if __name__ == '__main__':\n",
    "    unittest.main()"
   ]
  },
  {
   "cell_type": "markdown",
   "id": "65477127",
   "metadata": {},
   "source": [
    "### Con Unittest estoy comprobando que las funciones descritas en el segundo bloque estén funcionando de forma correcta, dando los resultados que deben dar"
   ]
  },
  {
   "cell_type": "code",
   "execution_count": null,
   "id": "4f4da879",
   "metadata": {},
   "outputs": [],
   "source": []
  }
 ],
 "metadata": {
  "kernelspec": {
   "display_name": "Python 3",
   "language": "python",
   "name": "python3"
  },
  "language_info": {
   "codemirror_mode": {
    "name": "ipython",
    "version": 3
   },
   "file_extension": ".py",
   "mimetype": "text/x-python",
   "name": "python",
   "nbconvert_exporter": "python",
   "pygments_lexer": "ipython3",
   "version": "3.8.2"
  }
 },
 "nbformat": 4,
 "nbformat_minor": 5
}
