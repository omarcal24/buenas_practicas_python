{
 "cells": [
  {
   "cell_type": "markdown",
   "id": "77fc1c34",
   "metadata": {},
   "source": [
    "# Lección 3 de Buenas Prácticas de Programación en Python\n",
    "# Adolfo Omar Calderón"
   ]
  },
  {
   "cell_type": "markdown",
   "id": "b69338eb",
   "metadata": {},
   "source": [
    "### Doxygen:\n",
    "\n",
    "Es una famosa herramienta que sirve como generadora de documentación para varios lenguajes de programación, dentro de estos están incluidos C, C++, Java, Python, PHP y otros más. Es altamente adaptable y funciona en diferentes sistemas operativos como Windows, Unix y Max OS."
   ]
  },
  {
   "cell_type": "markdown",
   "id": "ca7a2128",
   "metadata": {},
   "source": [
    "Codigo de ejemplo de Doxygen"
   ]
  },
  {
   "cell_type": "code",
   "execution_count": null,
   "id": "6d5ca015",
   "metadata": {},
   "outputs": [],
   "source": [
    "## @package pyexample\n",
    "#  Documentation for this module.\n",
    "#\n",
    "#  More details.\n",
    " \n",
    "## Documentation for a function.\n",
    "#\n",
    "#  More details.\n",
    "def func():\n",
    "    pass\n",
    " \n",
    "## Documentation for a class.\n",
    "#\n",
    "#  More details.\n",
    "class PyClass:\n",
    "   \n",
    "    ## The constructor.\n",
    "    def __init__(self):\n",
    "        self._memVar = 0;\n",
    "   \n",
    "    ## Documentation for a method.\n",
    "    #  @param self The object pointer.\n",
    "    def PyMethod(self):\n",
    "        pass\n",
    "     \n",
    "    ## A class variable.\n",
    "    classVar = 0;\n",
    " \n",
    "    ## @var _memVar\n",
    "    #  a member variable"
   ]
  }
 ],
 "metadata": {
  "kernelspec": {
   "display_name": "Python 3",
   "language": "python",
   "name": "python3"
  },
  "language_info": {
   "codemirror_mode": {
    "name": "ipython",
    "version": 3
   },
   "file_extension": ".py",
   "mimetype": "text/x-python",
   "name": "python",
   "nbconvert_exporter": "python",
   "pygments_lexer": "ipython3",
   "version": "3.7.7"
  }
 },
 "nbformat": 4,
 "nbformat_minor": 5
}
