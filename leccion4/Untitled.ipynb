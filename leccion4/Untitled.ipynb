{
 "cells": [
  {
   "cell_type": "markdown",
   "id": "adolescent-associate",
   "metadata": {},
   "source": [
    "# Lección 4 de Buenas Prácticas de Programación en Python\n",
    "# Adolfo Omar Calderón"
   ]
  },
  {
   "cell_type": "code",
   "execution_count": 1,
   "id": "willing-donna",
   "metadata": {},
   "outputs": [],
   "source": [
    "import pdb"
   ]
  },
  {
   "cell_type": "markdown",
   "id": "alone-trial",
   "metadata": {},
   "source": [
    "### Ejercicio 1"
   ]
  },
  {
   "cell_type": "code",
   "execution_count": 2,
   "id": "limiting-dimension",
   "metadata": {},
   "outputs": [],
   "source": [
    "def mayor(lst):\n",
    "    pdb.set_trace()\n",
    "    mayor = 1\n",
    "    for i in lst:\n",
    "        if i > mayor:\n",
    "            mayor = i\n",
    "    return mayor"
   ]
  },
  {
   "cell_type": "markdown",
   "id": "round-spiritual",
   "metadata": {},
   "source": [
    "Haciendo uso de la comprensión de listas cree dos con valores diferentes"
   ]
  },
  {
   "cell_type": "code",
   "execution_count": null,
   "id": "functional-venture",
   "metadata": {},
   "outputs": [],
   "source": [
    "lista1 = [i for i in range(1,9)]\n",
    "lista2 = [i for i in range(100, 500, 50)]"
   ]
  },
  {
   "cell_type": "code",
   "execution_count": null,
   "id": "interested-myanmar",
   "metadata": {},
   "outputs": [],
   "source": [
    "print(mayor(lista1))"
   ]
  },
  {
   "cell_type": "markdown",
   "id": "heard-retrieval",
   "metadata": {},
   "source": [
    "En el IDE utilice PDB en la función mayor que me devuelve el número de mayor valor dentro de una lista, con este puse el break en la línea de la varible local mayor cuando se define y cuando se actualiza. Fue interesante ver como la variable local se iba actualizando a medida que el código iba procediendo, me parece una herramienta muy útil para ver con profundidad el funcionamiento de un programa. Así se ve desde la terminal."
   ]
  },
  {
   "cell_type": "code",
   "execution_count": null,
   "id": "employed-township",
   "metadata": {},
   "outputs": [],
   "source": [
    "(base) Omars-MacBook-Pro:leccion4 omarcalderon$ python actividad.py\n",
    "> /Users/omarcalderon/Desktop/MasterPython/buenas_practicas/leccion4/actividad.py(6)mayor()\n",
    "-> mayor = 1\n",
    "(Pdb) 6\n",
    "6\n",
    "(Pdb) 9\n",
    "9\n",
    "(Pdb) b\n",
    "(Pdb) b\n",
    "(Pdb) c\n",
    "8\n",
    "(base) Omars-MacBook-Pro:leccion4 omarcalderon$ python actividad.py\n",
    "> /Users/omarcalderon/Desktop/MasterPython/buenas_practicas/leccion4/actividad.py(6)mayor()\n",
    "-> mayor = 1\n",
    "(Pdb) break 6\n",
    "Breakpoint 1 at /Users/omarcalderon/Desktop/MasterPython/buenas_practicas/leccion4/actividad.py:6\n",
    "(Pdb) break 9\n",
    "Breakpoint 2 at /Users/omarcalderon/Desktop/MasterPython/buenas_practicas/leccion4/actividad.py:9\n",
    "(Pdb) continue\n",
    "> /Users/omarcalderon/Desktop/MasterPython/buenas_practicas/leccion4/actividad.py(9)mayor()\n",
    "-> mayor = i\n",
    "(Pdb) list\n",
    "  4  \tdef mayor(lst):\n",
    "  5  \t    pdb.set_trace()\n",
    "  6 B\t    mayor = 1\n",
    "  7  \t    for i in lst:\n",
    "  8  \t        if i > mayor:\n",
    "  9 B->\t            mayor = i\n",
    " 10  \t    return mayor\n",
    " 11  \t\n",
    " 12  \tlista1 = [i for i in range(1,9)]\n",
    " 13  \tlista2 = [i for i in range(100, 500, 50)]\n",
    " 14  \t\n",
    "(Pdb) next\n",
    "> /Users/omarcalderon/Desktop/MasterPython/buenas_practicas/leccion4/actividad.py(7)mayor()\n",
    "-> for i in lst:\n",
    "(Pdb) next\n",
    "> /Users/omarcalderon/Desktop/MasterPython/buenas_practicas/leccion4/actividad.py(8)mayor()\n",
    "-> if i > mayor:\n",
    "(Pdb) next\n",
    "> /Users/omarcalderon/Desktop/MasterPython/buenas_practicas/leccion4/actividad.py(9)mayor()\n",
    "-> mayor = i\n",
    "(Pdb) next\n",
    "> /Users/omarcalderon/Desktop/MasterPython/buenas_practicas/leccion4/actividad.py(7)mayor()\n",
    "-> for i in lst:\n",
    "(Pdb) p mayor\n",
    "3\n",
    "(Pdb) next\n",
    "> /Users/omarcalderon/Desktop/MasterPython/buenas_practicas/leccion4/actividad.py(8)mayor()\n",
    "-> if i > mayor:\n",
    "(Pdb) next\n",
    "> /Users/omarcalderon/Desktop/MasterPython/buenas_practicas/leccion4/actividad.py(9)mayor()\n",
    "-> mayor = i\n",
    "(Pdb) next\n",
    "> /Users/omarcalderon/Desktop/MasterPython/buenas_practicas/leccion4/actividad.py(7)mayor()\n",
    "-> for i in lst:\n",
    "(Pdb) p mayor\n",
    "4\n",
    "(Pdb) clear all breaks\n",
    "*** Non-numeric breakpoint number all\n",
    "*** Non-numeric breakpoint number breaks\n",
    "(Pdb) clear 1\n",
    "Deleted breakpoint 1 at /Users/omarcalderon/Desktop/MasterPython/buenas_practicas/leccion4/actividad.py:6\n",
    "(Pdb) clear 2"
   ]
  },
  {
   "cell_type": "markdown",
   "id": "hazardous-fight",
   "metadata": {},
   "source": [
    "### Ejercicio 2"
   ]
  },
  {
   "cell_type": "markdown",
   "id": "fundamental-morris",
   "metadata": {},
   "source": [
    "Aquí defini una función que toma como argumento un número y dice si es primo o no"
   ]
  },
  {
   "cell_type": "code",
   "execution_count": 3,
   "id": "dependent-exhaust",
   "metadata": {},
   "outputs": [],
   "source": [
    "def primos(n):\n",
    "    primo = True\n",
    "    for i in range(2, n):\n",
    "        if(n % i == 0):\n",
    "            primo = False\n",
    "    return primo"
   ]
  },
  {
   "cell_type": "code",
   "execution_count": 4,
   "id": "innocent-robinson",
   "metadata": {},
   "outputs": [],
   "source": [
    "lista3 = list(range(1, 200))"
   ]
  },
  {
   "cell_type": "markdown",
   "id": "measured-indicator",
   "metadata": {},
   "source": [
    "La definición de esta variable la hice utilizando el método filter que usará la lista3"
   ]
  },
  {
   "cell_type": "code",
   "execution_count": null,
   "id": "sharp-sport",
   "metadata": {},
   "outputs": [],
   "source": [
    "primos = list(filter(primos, lista3))"
   ]
  },
  {
   "cell_type": "code",
   "execution_count": null,
   "id": "adjusted-christian",
   "metadata": {},
   "outputs": [],
   "source": [
    "print(primos)"
   ]
  }
 ],
 "metadata": {
  "kernelspec": {
   "display_name": "Python 3",
   "language": "python",
   "name": "python3"
  },
  "language_info": {
   "codemirror_mode": {
    "name": "ipython",
    "version": 3
   },
   "file_extension": ".py",
   "mimetype": "text/x-python",
   "name": "python",
   "nbconvert_exporter": "python",
   "pygments_lexer": "ipython3",
   "version": "3.8.2"
  }
 },
 "nbformat": 4,
 "nbformat_minor": 5
}
